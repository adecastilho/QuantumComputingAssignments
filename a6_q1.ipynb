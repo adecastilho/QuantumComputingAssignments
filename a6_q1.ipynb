{
 "nbformat": 4,
 "nbformat_minor": 2,
 "metadata": {
  "language_info": {
   "name": "python",
   "codemirror_mode": {
    "name": "ipython",
    "version": 3
   },
   "version": "3.7.6-final"
  },
  "orig_nbformat": 2,
  "file_extension": ".py",
  "mimetype": "text/x-python",
  "name": "python",
  "npconvert_exporter": "python",
  "pygments_lexer": "ipython3",
  "version": 3,
  "kernelspec": {
   "name": "python37664bit9ff4cfefd56e408bb1c0af2a8141cbdc",
   "display_name": "Python 3.7.6 64-bit"
  }
 },
 "cells": [
  {
   "source": [
    "import dimod\n",
    "from dimod.reference.samplers import ExactSolver\n",
    "sampler = ExactSolver()"
   ],
   "cell_type": "code",
   "outputs": [],
   "metadata": {},
   "execution_count": 1
  },
  {
   "source": [
    "bqm = dimod.BinaryQuadraticModel({('q0', 'q0'): 0.33, ('q1', 'q1'): -0.33, ('q4', 'q4'): -0.33, ('q5', 'q5'): 0.33, ('q0', 'q4'): 0.66, ('q1', 'q4'): 0.66, ('q1', 'q5'): 0.66, ('q0', 'q5'): -1}, 'BINARY')\n",
    "response = sampler.sample(bqm)\n",
    "print(response) "
   ],
   "cell_type": "code",
   "outputs": [
    {
     "output_type": "stream",
     "name": "stdout",
     "text": "q0 q1 q4 q5 energy num_oc.\n14  1  0  0  1  -0.34       1\n3   0  1  0  0  -0.33       1\n7   0  0  1  0  -0.33       1\n9   1  0  1  1  -0.01       1\n13  1  1  0  1  -0.01       1\n0   0  0  0  0    0.0       1\n2   1  1  0  0    0.0       1\n4   0  1  1  0    0.0       1\n8   0  0  1  1    0.0       1\n1   1  0  0  0   0.33       1\n15  0  0  0  1   0.33       1\n6   1  0  1  0   0.66       1\n12  0  1  0  1   0.66       1\n10  1  1  1  1   0.98       1\n5   1  1  1  0   0.99       1\n11  0  1  1  1   0.99       1\n['BINARY', 16 rows, 16 samples, 4 variables]\n"
    }
   ],
   "metadata": {},
   "execution_count": 2
  },
  {
   "source": [
    "print(\"From the above table, we see the three solutions with lowest energy are as expected: (q0, q1, q4, q5) = (1, 0, 0, 1), (0, 1, 0, 1) and (0, 0, 1, 0)\")"
   ],
   "cell_type": "code",
   "outputs": [
    {
     "output_type": "stream",
     "name": "stdout",
     "text": "From the above table, we see the three solutions with lowest energy are as expected: (q0, q1, q4, q5) = (1, 0, 0, 1), (0, 1, 0, 1) and (0, 0, 1, 0)\n"
    }
   ],
   "metadata": {},
   "execution_count": 3
  },
  {
   "cell_type": "code",
   "execution_count": null,
   "metadata": {},
   "outputs": [],
   "source": []
  }
 ]
}