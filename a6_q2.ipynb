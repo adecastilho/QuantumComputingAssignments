{
 "nbformat": 4,
 "nbformat_minor": 2,
 "metadata": {
  "language_info": {
   "name": "python",
   "codemirror_mode": {
    "name": "ipython",
    "version": 3
   },
   "version": "3.7.6-final"
  },
  "orig_nbformat": 2,
  "file_extension": ".py",
  "mimetype": "text/x-python",
  "name": "python",
  "npconvert_exporter": "python",
  "pygments_lexer": "ipython3",
  "version": 3,
  "kernelspec": {
   "name": "python37664bitdb91259f85624d659b61778b45f44e65",
   "display_name": "Python 3.7.6 64-bit"
  }
 },
 "cells": [
  {
   "source": [
    "import dwavebinarycsp\n",
    "from dwave.system import DWaveSampler, EmbeddingComposite\n",
    "import dimod\n",
    "from dimod.reference.samplers import ExactSolver\n",
    "\n",
    "sampler = ExactSolver()\n",
    "\n",
    "# Create a binary constraint satisfaction problem\n",
    "csp = dwavebinarycsp.ConstraintSatisfactionProblem(dwavebinarycsp.BINARY)"
   ],
   "cell_type": "code",
   "outputs": [],
   "metadata": {},
   "execution_count": 1
  },
  {
   "source": [
    "def sat3(a, b, c):\n",
    "    if a+b+c == 1:\n",
    "        return True\n",
    "    else:\n",
    "        return False\n",
    "\n",
    "clauses = [['0', '1', '2'], ['1', '2', '3'], ['2', '3', '4'], ['3', '4', '5'], ['4', '5', '6'], ['5', '6', '7'], ['6', '7', '8'], ['7', '8', '9']]"
   ],
   "cell_type": "code",
   "outputs": [],
   "metadata": {},
   "execution_count": 2
  },
  {
   "source": [
    "for clause in clauses:\n",
    "    csp.add_constraint(sat3, clause)"
   ],
   "cell_type": "code",
   "outputs": [],
   "metadata": {},
   "execution_count": 3
  },
  {
   "source": [
    "# Convert the binary constraint satisfaction problem to a binary quadratic model\n",
    "bqm = dwavebinarycsp.stitch(csp)"
   ],
   "cell_type": "code",
   "outputs": [],
   "metadata": {},
   "execution_count": 5
  },
  {
   "source": [
    "sampler = ExactSolver()\n",
    "response = sampler.sample(bqm).lowest()\n",
    "print(response) "
   ],
   "cell_type": "code",
   "outputs": [
    {
     "output_type": "stream",
     "name": "stdout",
     "text": "0  1  2  3  4  5  6  7  8  9 energy num_oc.\n1  0  0  1  0  0  1  0  0  1  0    0.0       1\n2  1  0  0  1  0  0  1  0  0  1    0.0       1\n0  0  1  0  0  1  0  0  1  0  0    0.0       1\n['BINARY', 3 rows, 3 samples, 10 variables]\n"
    }
   ],
   "metadata": {},
   "execution_count": 6
  },
  {
   "source": [
    "print(\"From the table, there are three possible solutions for the problem:\")\n",
    "\n",
    "for sol in list(response):\n",
    "    print(list(sol.values()))\n"
   ],
   "cell_type": "code",
   "outputs": [
    {
     "output_type": "stream",
     "name": "stdout",
     "text": "From the table, there are three possible solutions for the problem:\n[0, 0, 1, 0, 0, 1, 0, 0, 1, 0]\n[1, 0, 0, 1, 0, 0, 1, 0, 0, 1]\n[0, 1, 0, 0, 1, 0, 0, 1, 0, 0]\n"
    }
   ],
   "metadata": {},
   "execution_count": 9
  }
 ]
}