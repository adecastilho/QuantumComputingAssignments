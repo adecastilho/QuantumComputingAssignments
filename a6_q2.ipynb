{
 "nbformat": 4,
 "nbformat_minor": 2,
 "metadata": {
  "language_info": {
   "name": "python",
   "codemirror_mode": {
    "name": "ipython",
    "version": 3
   },
   "version": "3.7.6-final"
  },
  "orig_nbformat": 2,
  "file_extension": ".py",
  "mimetype": "text/x-python",
  "name": "python",
  "npconvert_exporter": "python",
  "pygments_lexer": "ipython3",
  "version": 3,
  "kernelspec": {
   "name": "python37664bit173803afacf54450b1be05e7f1569368",
   "display_name": "Python 3.7.6 64-bit"
  }
 },
 "cells": [
  {
   "source": [
    "# Question 2: 10-qubit 3-Sat\n",
    "\n",
    "import dwavebinarycsp\n",
    "from dwave.system import DWaveSampler, EmbeddingComposite\n",
    "import dimod\n",
    "from dimod.reference.samplers import ExactSolver"
   ],
   "cell_type": "code",
   "outputs": [],
   "metadata": {},
   "execution_count": 1
  },
  {
   "source": [
    "# Create a binary constraint satisfaction problem\n",
    "\n",
    "csp = dwavebinarycsp.ConstraintSatisfactionProblem(dwavebinarycsp.BINARY)"
   ],
   "cell_type": "code",
   "outputs": [],
   "metadata": {},
   "execution_count": 2
  },
  {
   "source": [
    "# Define 3-sat function\n",
    "\n",
    "def sat3(a, b, c):\n",
    "    if a+b+c == 1:\n",
    "        return True\n",
    "    else:\n",
    "        return False"
   ],
   "cell_type": "code",
   "outputs": [],
   "metadata": {},
   "execution_count": 3
  },
  {
   "source": [
    "# Define the clauses\n",
    "\n",
    "clauses = [['0', '1', '2'], ['1', '2', '3'], ['2', '3', '4'], ['3', '4', '5'], ['4', '5', '6'], ['5', '6', '7'], ['6', '7', '8'], ['7', '8', '9']]"
   ],
   "cell_type": "code",
   "outputs": [],
   "metadata": {},
   "execution_count": 4
  },
  {
   "source": [
    "# Add constraint for each clause to the csp\n",
    "\n",
    "for clause in clauses:\n",
    "    csp.add_constraint(sat3, clause)"
   ],
   "cell_type": "code",
   "outputs": [],
   "metadata": {},
   "execution_count": 5
  },
  {
   "source": [
    "# Convert the binary constraint satisfaction problem to a binary quadratic model\n",
    "\n",
    "bqm = dwavebinarycsp.stitch(csp)"
   ],
   "cell_type": "code",
   "outputs": [],
   "metadata": {},
   "execution_count": 7
  },
  {
   "source": [
    "# Brute force to find all possible solutions\n",
    "\n",
    "sampler = ExactSolver()\n",
    "response = sampler.sample(bqm).lowest()\n",
    "print(response) "
   ],
   "cell_type": "code",
   "outputs": [
    {
     "output_type": "stream",
     "name": "stdout",
     "text": "0  1  2  3  4  5  6  7  8  9 energy num_oc.\n1  0  0  1  0  0  1  0  0  1  0    0.0       1\n2  1  0  0  1  0  0  1  0  0  1    0.0       1\n0  0  1  0  0  1  0  0  1  0  0    0.0       1\n['BINARY', 3 rows, 3 samples, 10 variables]\n"
    }
   ],
   "metadata": {},
   "execution_count": 8
  },
  {
   "source": [
    "print(\"From the table, there are three possible solutions for the problem:\")\n",
    "\n",
    "for sol in list(response):\n",
    "    print(list(sol.values()))\n"
   ],
   "cell_type": "code",
   "outputs": [
    {
     "output_type": "stream",
     "name": "stdout",
     "text": "From the table, there are three possible solutions for the problem:\n[0, 0, 1, 0, 0, 1, 0, 0, 1, 0]\n[1, 0, 0, 1, 0, 0, 1, 0, 0, 1]\n[0, 1, 0, 0, 1, 0, 0, 1, 0, 0]\n"
    }
   ],
   "metadata": {},
   "execution_count": 9
  },
  {
   "source": [
    "# Set up a solver using the local system’s default D-Wave Cloud Client configuration file and sample 1000 times\n",
    "\n",
    "sampler = EmbeddingComposite(DWaveSampler())\n",
    "sampleset = sampler.sample(bqm, num_reads=1000)\n",
    "print(sampleset)"
   ],
   "cell_type": "code",
   "outputs": [
    {
     "output_type": "stream",
     "name": "stdout",
     "text": "0  1  2  3  4  5  6  7  8  9 energy num_oc. chain_.\n3   1  0  0  1  0  0  1  0  0  1    0.0      46     0.0\n4   0  0  1  0  0  1  0  0  1  0    0.0       7     0.0\n5   0  1  0  0  1  0  0  1  0  0    0.0       2     0.0\n7   1  0  0  1  0  0  1  0  1  1    4.0      75     0.1\n6   0  1  1  0  0  1  0  0  1  0    4.0       2     0.1\n8   1  1  0  1  0  0  1  0  0  1    4.0      65     0.1\n16  0  1  0  0  1  1  0  0  1  0    4.0       1     0.1\n17  0  1  1  0  0  1  0  0  1  0    4.0       1     0.1\n18  1  0  0  1  0  0  1  1  0  0    4.0       1     0.1\n19  1  0  0  1  0  0  1  1  0  0    4.0       1     0.1\n0   0  0  1  0  0  1  1  0  1  0    6.0     177     0.1\n1   0  1  0  0  1  0  1  1  0  0    6.0     135     0.1\n23  0  0  1  1  0  0  1  0  1  1    8.0       1     0.2\n10  1  1  0  1  0  0  1  0  1  1    8.0     107     0.2\n15  1  0  0  1  0  1  1  0  1  0    8.0       1     0.1\n24  1  1  0  1  0  0  1  1  0  0    8.0       3     0.2\n25  1  1  0  1  0  0  1  1  0  0    8.0       3     0.2\n2   0  1  1  0  0  1  1  0  1  0   10.0     247     0.2\n13  0  1  1  0  0  1  1  0  1  0   10.0      10     0.2\n31  0  1  1  0  0  1  1  0  1  0   10.0       1     0.1\n12  0  1  0  1  0  1  1  0  1  0   10.0      19     0.2\n20  0  1  1  0  0  1  1  0  1  1   12.0       2     0.2\n26  0  1  1  0  0  1  1  0  1  1   12.0       2     0.3\n21  0  1  1  0  1  0  1  1  0  0   12.0       1     0.2\n22  1  1  0  1  0  1  1  0  1  0   12.0       2     0.2\n28  1  1  0  1  0  1  1  0  1  0   12.0       1     0.2\n29  0  0  1  0  0  1  1  1  0  0   12.0       1     0.2\n9   0  0  1  1  1  0  1  0  0  1   14.0      28     0.2\n11  0  1  0  1  1  1  0  0  1  0   14.0      20     0.2\n30  0  1  1  0  0  1  1  1  0  0   16.0       1     0.3\n14  0  0  1  1  1  0  1  0  1  1   18.0      36     0.3\n27  0  0  1  1  1  0  1  1  0  0   18.0       1     0.3\n['BINARY', 32 rows, 1000 samples, 10 variables]\n"
    }
   ],
   "metadata": {},
   "execution_count": 11
  },
  {
   "source": [
    "# Get the lowest energy results from the sampleset\n",
    "lowest = sampleset.lowest().record\n",
    "\n",
    "num_correct = 0\n",
    "\n",
    "# If the energy of the lowest results is greater than 0.1 this does not represent the base case/correct answer\n",
    "if lowest[0][1] > 0.1:\n",
    "    print(\"When the algorithm was run in the QPU, no correct answers were found\")\n",
    "else:\n",
    "    # Only one correct answer found\n",
    "    if lowest.size == 1:\n",
    "        print(\"When the algorithm was run in the QPU, the following correct answer was found:\")\n",
    "\n",
    "    # Multiple correct answers found\n",
    "    else:\n",
    "        print(\"When the algorithm was run in the QPU, the following correct answers were found:\")\n",
    "    # print the correct answer(s)\n",
    "    for sol in lowest:\n",
    "        num_correct += 1\n",
    "        print(sol[0])\n",
    "\n",
    "print(\"\\nThe number of correct answers was:\", num_correct)"
   ],
   "cell_type": "code",
   "outputs": [
    {
     "output_type": "stream",
     "name": "stdout",
     "text": "When the algorithm was run in the QPU, the following correct answers were found:\n[1 0 0 1 0 0 1 0 0 1]\n[0 0 1 0 0 1 0 0 1 0]\n[0 1 0 0 1 0 0 1 0 0]\n\nThe number of correct answers was: 3\n"
    }
   ],
   "metadata": {},
   "execution_count": 12
  },
  {
   "cell_type": "code",
   "execution_count": null,
   "metadata": {},
   "outputs": [],
   "source": []
  }
 ]
}