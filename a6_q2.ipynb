{
 "nbformat": 4,
 "nbformat_minor": 2,
 "metadata": {
  "language_info": {
   "name": "python",
   "codemirror_mode": {
    "name": "ipython",
    "version": 3
   },
   "version": "3.7.6-final"
  },
  "orig_nbformat": 2,
  "file_extension": ".py",
  "mimetype": "text/x-python",
  "name": "python",
  "npconvert_exporter": "python",
  "pygments_lexer": "ipython3",
  "version": 3,
  "kernelspec": {
   "name": "python37664bitdb91259f85624d659b61778b45f44e65",
   "display_name": "Python 3.7.6 64-bit"
  }
 },
 "cells": [
  {
   "source": [
    "# Question 2: 10-qubit 3-Sat\n",
    "\n",
    "import dwavebinarycsp\n",
    "from dwave.system import DWaveSampler, EmbeddingComposite\n",
    "import dimod\n",
    "from dimod.reference.samplers import ExactSolver"
   ],
   "cell_type": "code",
   "outputs": [],
   "metadata": {},
   "execution_count": 1
  },
  {
   "source": [
    "# Create a binary constraint satisfaction problem\n",
    "\n",
    "csp = dwavebinarycsp.ConstraintSatisfactionProblem(dwavebinarycsp.BINARY)"
   ],
   "cell_type": "code",
   "outputs": [],
   "metadata": {},
   "execution_count": 2
  },
  {
   "source": [
    "# Define 3-sat function\n",
    "\n",
    "def sat3(a, b, c):\n",
    "    if a+b+c == 1:\n",
    "        return True\n",
    "    else:\n",
    "        return False"
   ],
   "cell_type": "code",
   "outputs": [],
   "metadata": {},
   "execution_count": 3
  },
  {
   "source": [
    "# Define the clauses\n",
    "\n",
    "clauses = [['0', '1', '2'], ['1', '2', '3'], ['2', '3', '4'], ['3', '4', '5'], ['4', '5', '6'], ['5', '6', '7'], ['6', '7', '8'], ['7', '8', '9']]"
   ],
   "cell_type": "code",
   "outputs": [],
   "metadata": {},
   "execution_count": 4
  },
  {
   "source": [
    "# Add constraint for each clause to the csp\n",
    "\n",
    "for clause in clauses:\n",
    "    csp.add_constraint(sat3, clause)"
   ],
   "cell_type": "code",
   "outputs": [],
   "metadata": {},
   "execution_count": 5
  },
  {
   "source": [
    "# Convert the binary constraint satisfaction problem to a binary quadratic model\n",
    "\n",
    "bqm = dwavebinarycsp.stitch(csp)"
   ],
   "cell_type": "code",
   "outputs": [
    {
     "output_type": "stream",
     "name": "stderr",
     "text": "/usr/local/lib/python3.7/importlib/_bootstrap.py:219: RuntimeWarning: numpy.ufunc size changed, may indicate binary incompatibility. Expected 192 from C header, got 216 from PyObject\n  return f(*args, **kwds)\n"
    }
   ],
   "metadata": {},
   "execution_count": 6
  },
  {
   "source": [
    "# Brute force to find all possible solutions\n",
    "\n",
    "sampler = ExactSolver()\n",
    "response = sampler.sample(bqm).lowest()\n",
    "print(response) "
   ],
   "cell_type": "code",
   "outputs": [
    {
     "output_type": "stream",
     "name": "stdout",
     "text": "0  1  2  3  4  5  6  7  8  9 energy num_oc.\n1  0  0  1  0  0  1  0  0  1  0    0.0       1\n2  1  0  0  1  0  0  1  0  0  1    0.0       1\n0  0  1  0  0  1  0  0  1  0  0    0.0       1\n['BINARY', 3 rows, 3 samples, 10 variables]\n"
    }
   ],
   "metadata": {},
   "execution_count": 7
  },
  {
   "source": [
    "print(\"From the table, there are three possible solutions for the problem:\")\n",
    "\n",
    "for sol in list(response):\n",
    "    print(list(sol.values()))\n"
   ],
   "cell_type": "code",
   "outputs": [
    {
     "output_type": "stream",
     "name": "stdout",
     "text": "From the table, there are three possible solutions for the problem:\n[0, 0, 1, 0, 0, 1, 0, 0, 1, 0]\n[1, 0, 0, 1, 0, 0, 1, 0, 0, 1]\n[0, 1, 0, 0, 1, 0, 0, 1, 0, 0]\n"
    }
   ],
   "metadata": {},
   "execution_count": 8
  },
  {
   "source": [
    "# Set up a solver using the local system’s default D-Wave Cloud Client configuration file and sample 1000 times\n",
    "\n",
    "sampler = EmbeddingComposite(DWaveSampler())\n",
    "sampleset = sampler.sample(bqm, num_reads=1000)\n",
    "print(sampleset)"
   ],
   "cell_type": "code",
   "outputs": [
    {
     "output_type": "stream",
     "name": "stdout",
     "text": "0  1  2  3  4  5  6  7  8  9 energy num_oc. chain_.\n2   0  0  1  0  0  1  0  0  1  0    0.0      61     0.0\n3   1  0  0  1  0  0  1  0  0  1    0.0      10     0.0\n4   0  1  0  0  1  0  0  1  0  0    0.0       5     0.0\n7   1  0  0  1  0  0  1  0  1  1    4.0      18     0.1\n8   0  1  0  0  1  0  0  1  1  0    4.0       6     0.1\n9   1  0  0  1  1  0  0  1  0  0    4.0       4     0.1\n16  0  1  1  0  0  1  0  0  1  0    4.0       1     0.1\n18  0  1  0  0  1  1  0  0  1  0    4.0       1     0.1\n19  1  0  0  1  1  0  0  1  0  0    4.0       2     0.1\n17  1  0  0  1  0  1  0  1  0  0    4.0       1     0.1\n5   0  0  1  1  0  1  0  0  1  0    6.0      98     0.1\n6   0  1  0  1  1  0  0  1  0  0    6.0      13     0.1\n25  0  0  1  1  0  1  0  0  1  1    8.0       1     0.1\n13  1  0  0  1  1  0  0  1  1  0    8.0       4     0.2\n21  1  1  0  1  0  0  1  0  1  1    8.0       1     0.2\n23  1  0  0  1  0  1  0  1  1  0    8.0       1     0.2\n0   1  1  0  1  1  0  0  1  0  0    8.0     385     0.2\n10  0  1  0  1  1  0  0  1  1  0   10.0       2     0.2\n20  1  1  0  1  1  0  1  0  0  1   10.0       1     0.2\n22  0  1  0  1  1  0  0  1  1  0   10.0       1     0.2\n1   1  1  0  1  1  0  0  1  1  0   12.0     307     0.3\n14  1  1  0  1  1  0  1  0  1  0   12.0      13     0.3\n15  1  1  0  1  1  0  0  1  1  0   12.0       8     0.3\n24  1  1  0  1  1  0  1  0  1  1   14.0       3     0.3\n27  1  1  0  1  1  0  1  1  0  0   14.0       1     0.3\n11  0  1  0  0  1  1  1  0  1  0   14.0       8     0.2\n12  1  0  0  1  0  1  1  1  0  0   14.0      42     0.2\n26  1  0  0  1  0  1  1  1  0  1   16.0       1     0.2\n28  1  1  0  1  1  1  1  1  0  0   32.0       1     0.5\n['BINARY', 29 rows, 1000 samples, 10 variables]\n"
    }
   ],
   "metadata": {},
   "execution_count": 9
  },
  {
   "source": [
    "print(\"When the algorithm was run in the QPU, only one correct answer was achieved:\")\n",
    "print(\"(0, 0, 1, 0, 0, 1, 0, 0, 1, 0)\")\n",
    "\n",
    "\n",
    "lowest = sampleset.lowest()[energy]\n",
    "print(lowest)"
   ],
   "cell_type": "code",
   "outputs": [
    {
     "output_type": "stream",
     "name": "stdout",
     "text": "When the algorithm was run in the QPU, only one correct answer was achieved:\n(0, 0, 1, 0, 0, 1, 0, 0, 1, 0)\n"
    },
    {
     "output_type": "error",
     "ename": "NameError",
     "evalue": "name 'energy' is not defined",
     "traceback": [
      "\u001b[0;31m---------------------------------------------------------------------------\u001b[0m",
      "\u001b[0;31mNameError\u001b[0m                                 Traceback (most recent call last)",
      "\u001b[0;32m<ipython-input-14-a544b74c8d99>\u001b[0m in \u001b[0;36m<module>\u001b[0;34m\u001b[0m\n\u001b[1;32m      3\u001b[0m \u001b[0;34m\u001b[0m\u001b[0m\n\u001b[1;32m      4\u001b[0m \u001b[0;34m\u001b[0m\u001b[0m\n\u001b[0;32m----> 5\u001b[0;31m \u001b[0mlowest\u001b[0m \u001b[0;34m=\u001b[0m \u001b[0msampleset\u001b[0m\u001b[0;34m.\u001b[0m\u001b[0mlowest\u001b[0m\u001b[0;34m(\u001b[0m\u001b[0;34m)\u001b[0m\u001b[0;34m[\u001b[0m\u001b[0menergy\u001b[0m\u001b[0;34m]\u001b[0m\u001b[0;34m\u001b[0m\u001b[0;34m\u001b[0m\u001b[0m\n\u001b[0m\u001b[1;32m      6\u001b[0m \u001b[0mprint\u001b[0m\u001b[0;34m(\u001b[0m\u001b[0mlowest\u001b[0m\u001b[0;34m)\u001b[0m\u001b[0;34m\u001b[0m\u001b[0;34m\u001b[0m\u001b[0m\n",
      "\u001b[0;31mNameError\u001b[0m: name 'energy' is not defined"
     ]
    }
   ],
   "metadata": {},
   "execution_count": 14
  },
  {
   "cell_type": "code",
   "execution_count": null,
   "metadata": {},
   "outputs": [],
   "source": []
  }
 ]
}